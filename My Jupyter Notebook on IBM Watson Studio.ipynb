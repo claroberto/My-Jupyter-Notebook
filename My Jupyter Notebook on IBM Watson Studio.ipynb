{
  "metadata": {
    "language_info": {
      "codemirror_mode": {
        "name": "python",
        "version": 3
      },
      "file_extension": ".py",
      "mimetype": "text/x-python",
      "name": "python",
      "nbconvert_exporter": "python",
      "pygments_lexer": "ipython3",
      "version": "3.8"
    },
    "kernelspec": {
      "name": "python",
      "display_name": "Pyolite",
      "language": "python"
    }
  },
  "nbformat_minor": 4,
  "nbformat": 4,
  "cells": [
    {
      "cell_type": "markdown",
      "source": "# \"My jupyter Notebook on IBM Watson Studio\"",
      "metadata": {
        "tags": []
      }
    },
    {
      "cell_type": "markdown",
      "source": "**Claudio Roberto da Silva**",
      "metadata": {}
    },
    {
      "cell_type": "markdown",
      "source": "Analista de Qualidade e Processos",
      "metadata": {}
    },
    {
      "cell_type": "markdown",
      "source": "*Atualmente minhas atividades depende de muita analise de informações sobre processo de Gestão de incidentes e desta forma meu interesse pelas ciencia de dados e suas ferramentas*",
      "metadata": {
        "tags": [],
        "jp-MarkdownHeadingCollapsed": true
      }
    },
    {
      "cell_type": "markdown",
      "source": "### Meu codigo devera efetuar uam multplicação entre 5 e 4 ###",
      "metadata": {
        "tags": []
      }
    },
    {
      "cell_type": "code",
      "source": "5*4",
      "metadata": {
        "tags": [],
        "trusted": true
      },
      "execution_count": 3,
      "outputs": [
        {
          "execution_count": 3,
          "output_type": "execute_result",
          "data": {
            "text/plain": "20"
          },
          "metadata": {}
        }
      ]
    },
    {
      "cell_type": "markdown",
      "source": "| Number 1 | Number 2| Resultado| \n|----------|---------|----------|\n|     5    |    4    |     20   |",
      "metadata": {}
    },
    {
      "cell_type": "markdown",
      "source": "[Jupiter Lab](https://labs.cognitiveclass.ai)",
      "metadata": {}
    },
    {
      "cell_type": "code",
      "source": "",
      "metadata": {},
      "execution_count": null,
      "outputs": []
    }
  ]
}